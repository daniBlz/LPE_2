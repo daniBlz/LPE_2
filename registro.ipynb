{
 "cells": [
  {
   "cell_type": "code",
   "execution_count": 6,
   "metadata": {},
   "outputs": [],
   "source": [
    "#Leemos token.json\n",
    "import json\n",
    "\n"
   ]
  },
  {
   "cell_type": "code",
   "execution_count": 1,
   "metadata": {},
   "outputs": [],
   "source": [
    "import pyrebase as pyb"
   ]
  },
  {
   "cell_type": "code",
   "execution_count": 39,
   "metadata": {},
   "outputs": [],
   "source": [
    "firebase = pyb.initialize_app(token)\n",
    "auth = firebase.auth()\n",
    "db = firebase.database()\n",
    "storage = firebase.storage()"
   ]
  },
  {
   "cell_type": "code",
   "execution_count": 20,
   "metadata": {},
   "outputs": [],
   "source": [
    "def registro(user,pwd):\n",
    "    try:\n",
    "        auth.create_user_with_email_and_password(user,pwd)\n",
    "        print(\"Usuario creado\")\n",
    "    except:\n",
    "        print(\"El usuario ya existe\")"
   ]
  },
  {
   "cell_type": "code",
   "execution_count": 21,
   "metadata": {},
   "outputs": [],
   "source": [
    "def login(user,pwd):\n",
    "    try:\n",
    "        auth.sign_in_with_email_and_password(user,pwd)\n",
    "        print(\"Login correcto\")\n",
    "    except:\n",
    "        print(\"Login incorrecto\")\n",
    "        "
   ]
  },
  {
   "cell_type": "code",
   "execution_count": 22,
   "metadata": {},
   "outputs": [],
   "source": [
    "def introducirDatosUser (email,name,coche,modelo,combustible,consumo):\n",
    "    data = {\"email\":email,\"name\":name,\"coche\":coche,\"modelo\":modelo,\"combustible\":combustible,\"consumo\":consumo}\n",
    "    #Subimos los datos \n",
    "    db.child(\"users\").push(data)\n",
    "    \n",
    "\n",
    "   \n"
   ]
  },
  {
   "cell_type": "code",
   "execution_count": 23,
   "metadata": {},
   "outputs": [],
   "source": [
    "def getUserID(email):\n",
    "    users = db.child(\"users\").get()\n",
    "    for user in users.each():\n",
    "        if user.val()[\"email\"] == email:\n",
    "            return user.key()"
   ]
  },
  {
   "cell_type": "code",
   "execution_count": 24,
   "metadata": {},
   "outputs": [],
   "source": [
    "def leerDatosUser(id):\n",
    "    #Leemos los datos del usuario con el id\n",
    "    datos = db.child(\"usuarios\").child(id).get()\n",
    "    print(datos.val())\n",
    "   \n",
    "   "
   ]
  },
  {
   "cell_type": "code",
   "execution_count": 25,
   "metadata": {},
   "outputs": [],
   "source": [
    "def anadirLocalizacion(id : str ,lat : float ,lon : float,gasolineras : list):\n",
    "    \n",
    "    data = {\"lat\":lat,\"lon\":lon, 'userID': id}\n",
    "    #Añadimos cada gasolinera al diccionario\n",
    "    for i in range(len(gasolineras)):\n",
    "        data['gasolinera'+str(i)] = gasolineras[i]\n",
    "\n",
    "    #Subimos los datos \n",
    "    db.child(\"localizaciones\").push(data)\n",
    "    \n"
   ]
  },
  {
   "cell_type": "code",
   "execution_count": 18,
   "metadata": {},
   "outputs": [],
   "source": [
    "#Creamos un init para no tener que estar creando el objeto firebase cada vez que lo necesitemos\n",
    "def myInit():\n",
    "    with open('token.json') as f:\n",
    "        token = json.load(f)\n",
    "    firebase = pyb.initialize_app(token)\n",
    "    return firebase\n",
    "def getDB(firebase):\n",
    "    db = firebase.database()\n",
    "    return db\n",
    "def getAuth(firebase):\n",
    "    auth = firebase.auth()\n",
    "    return auth\n",
    "def getStorage(firebase):\n",
    "    storage = firebase.storage()\n",
    "    return storage\n"
   ]
  },
  {
   "cell_type": "code",
   "execution_count": 16,
   "metadata": {},
   "outputs": [],
   "source": [
    "fb = myInit()"
   ]
  },
  {
   "cell_type": "code",
   "execution_count": 19,
   "metadata": {},
   "outputs": [],
   "source": [
    "db = getDB(fb)\n",
    "auth = getAuth(fb)\n",
    "storage = getStorage(fb)\n"
   ]
  },
  {
   "cell_type": "code",
   "execution_count": 26,
   "metadata": {},
   "outputs": [
    {
     "name": "stdout",
     "output_type": "stream",
     "text": [
      "Usuario creado\n"
     ]
    }
   ],
   "source": [
    "#Añadimos un usuario\n",
    "registro(\"danielblz@gmail.com\",\"123456\")\n"
   ]
  },
  {
   "cell_type": "code",
   "execution_count": null,
   "metadata": {},
   "outputs": [],
   "source": []
  }
 ],
 "metadata": {
  "kernelspec": {
   "display_name": "base",
   "language": "python",
   "name": "python3"
  },
  "language_info": {
   "codemirror_mode": {
    "name": "ipython",
    "version": 3
   },
   "file_extension": ".py",
   "mimetype": "text/x-python",
   "name": "python",
   "nbconvert_exporter": "python",
   "pygments_lexer": "ipython3",
   "version": "3.8.3"
  },
  "orig_nbformat": 4,
  "vscode": {
   "interpreter": {
    "hash": "4d9defa72c2715dab9f7f172572cd30a1ab1a2083462d32ef96aadb7c6e0c73b"
   }
  }
 },
 "nbformat": 4,
 "nbformat_minor": 2
}
