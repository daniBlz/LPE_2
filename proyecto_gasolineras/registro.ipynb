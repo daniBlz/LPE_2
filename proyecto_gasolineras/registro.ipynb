{
 "cells": [
  {
   "cell_type": "code",
   "execution_count": 15,
   "metadata": {},
   "outputs": [],
   "source": [
    "#Leemos token.json\n",
    "import json\n",
    "with open('token.json') as f:\n",
    "    token = json.load(f)\n"
   ]
  },
  {
   "cell_type": "code",
   "execution_count": null,
   "metadata": {},
   "outputs": [],
   "source": []
  },
  {
   "cell_type": "code",
   "execution_count": 16,
   "metadata": {},
   "outputs": [],
   "source": [
    "import pyrebase as pyb"
   ]
  },
  {
   "cell_type": "code",
   "execution_count": null,
   "metadata": {},
   "outputs": [],
   "source": []
  },
  {
   "cell_type": "code",
   "execution_count": 19,
   "metadata": {},
   "outputs": [],
   "source": [
    "firebase = pyb.initialize_app(token)\n"
   ]
  },
  {
   "cell_type": "code",
   "execution_count": 20,
   "metadata": {},
   "outputs": [],
   "source": [
    "auth = firebase.auth()\n",
    "db = firebase.database()\n",
    "storage = firebase.storage()"
   ]
  },
  {
   "cell_type": "code",
   "execution_count": 21,
   "metadata": {},
   "outputs": [],
   "source": [
    "def registro(user,pwd):\n",
    "    try:\n",
    "        auth.create_user_with_email_and_password(user,pwd)\n",
    "        print(\"Usuario creado\")\n",
    "    except:\n",
    "        print(\"El usuario ya existe\")"
   ]
  },
  {
   "cell_type": "code",
   "execution_count": 22,
   "metadata": {},
   "outputs": [],
   "source": [
    "def login(user,pwd):\n",
    "    try:\n",
    "        auth.sign_in_with_email_and_password(user,pwd)\n",
    "        print(\"Login correcto\")\n",
    "    except:\n",
    "        print(\"Login incorrecto\")\n",
    "        "
   ]
  },
  {
   "cell_type": "code",
   "execution_count": 23,
   "metadata": {},
   "outputs": [],
   "source": [
    "def introducirDatosUser (email,name,coche,modelo,combustible,consumo):\n",
    "    data = {\"email\":email,\"name\":name,\"coche\":coche,\"modelo\":modelo,\"combustible\":combustible,\"consumo\":consumo}\n",
    "    #Subimos los datos \n",
    "    db.child(\"users\").push(data)\n",
    "    \n",
    "\n",
    "   \n"
   ]
  },
  {
   "cell_type": "code",
   "execution_count": 25,
   "metadata": {},
   "outputs": [],
   "source": [
    "def getUserID(email):\n",
    "    users = db.child(\"users\").get()\n",
    "    for user in users.each():\n",
    "        if user.val()[\"email\"] == email:\n",
    "            return user.key()"
   ]
  },
  {
   "cell_type": "code",
   "execution_count": 26,
   "metadata": {},
   "outputs": [],
   "source": [
    "def leerDatosUser(id):\n",
    "    #Leemos los datos del usuario con el id\n",
    "    datos = db.child(\"usuarios\").child(id).get()\n",
    "    print(datos.val())\n",
    "   \n",
    "   "
   ]
  },
  {
   "cell_type": "code",
   "execution_count": 107,
   "metadata": {},
   "outputs": [],
   "source": [
    "def anadirLocalizacion(id : str , calle: str, nombre:str, lat : float ,lon : float, gasolineras : list, distancias: list):\n",
    "    \n",
    "    data = {\"calle\": calle,\"nombre\": nombre, \"lat\":lat,\"lon\":lon}\n",
    "    #Añadimos cada gasolinera al diccionario\n",
    "    gas_dist = dict(zip(gasolineras, distancias))\n",
    "    for i in range(len(gasolineras)):\n",
    "        data['gasolinera'+str(i)] = list(gas_dist.items())[i]\n",
    "\n",
    "    #Añadimos la localizacion con clave igual a nombre al usuario\n",
    "    db.child(f\"users/{id}/localizaciones\").child(nombre).set(data)\n",
    "\n",
    "\n",
    " \n",
    "\n"
   ]
  },
  {
   "cell_type": "code",
   "execution_count": 109,
   "metadata": {},
   "outputs": [],
   "source": [
    "def getLoc(userID,locID):\n",
    "    loc = db.child(f\"users/{userID}/localizaciones\").child(locID).get()\n",
    "    return loc.val()\n"
   ]
  },
  {
   "cell_type": "code",
   "execution_count": 98,
   "metadata": {},
   "outputs": [
    {
     "name": "stdout",
     "output_type": "stream",
     "text": [
      "El usuario ya existe\n"
     ]
    }
   ],
   "source": [
    "registro(\"cristina@gmail.com\",\"cristina1101\")"
   ]
  },
  {
   "cell_type": "code",
   "execution_count": 99,
   "metadata": {},
   "outputs": [],
   "source": [
    "introducirDatosUser(\"cristina@gmail.com\",\"Cristina\",\"Seat\",\"Ibiza\",\"Gasolina\",\"5.5\")\n"
   ]
  },
  {
   "cell_type": "code",
   "execution_count": 100,
   "metadata": {},
   "outputs": [],
   "source": [
    "cristinakey = getUserID(\"cristina@gmail.com\")"
   ]
  },
  {
   "cell_type": "code",
   "execution_count": 101,
   "metadata": {},
   "outputs": [
    {
     "data": {
      "text/plain": [
       "'-NLVVxuBp7B_H2ab3qkw'"
      ]
     },
     "execution_count": 101,
     "metadata": {},
     "output_type": "execute_result"
    }
   ],
   "source": [
    "cristinakey"
   ]
  },
  {
   "cell_type": "code",
   "execution_count": 108,
   "metadata": {},
   "outputs": [],
   "source": [
    "anadirLocalizacion(cristinakey,'uni','uni',123,122,[],[])"
   ]
  },
  {
   "cell_type": "code",
   "execution_count": 110,
   "metadata": {},
   "outputs": [
    {
     "data": {
      "text/plain": [
       "OrderedDict([('calle', 'uni'), ('lat', 123), ('lon', 122), ('nombre', 'uni')])"
      ]
     },
     "execution_count": 110,
     "metadata": {},
     "output_type": "execute_result"
    }
   ],
   "source": [
    "getLoc(cristinakey,'uni')"
   ]
  },
  {
   "cell_type": "code",
   "execution_count": null,
   "metadata": {},
   "outputs": [],
   "source": []
  }
 ],
 "metadata": {
  "kernelspec": {
   "display_name": "base",
   "language": "python",
   "name": "python3"
  },
  "language_info": {
   "codemirror_mode": {
    "name": "ipython",
    "version": 3
   },
   "file_extension": ".py",
   "mimetype": "text/x-python",
   "name": "python",
   "nbconvert_exporter": "python",
   "pygments_lexer": "ipython3",
   "version": "3.8.3"
  },
  "orig_nbformat": 4,
  "vscode": {
   "interpreter": {
    "hash": "4d9defa72c2715dab9f7f172572cd30a1ab1a2083462d32ef96aadb7c6e0c73b"
   }
  }
 },
 "nbformat": 4,
 "nbformat_minor": 2
}
